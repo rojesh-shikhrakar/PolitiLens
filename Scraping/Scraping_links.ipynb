{
 "cells": [
  {
   "cell_type": "code",
   "execution_count": 33,
   "metadata": {},
   "outputs": [],
   "source": [
    "import requests\n",
    "from bs4 import BeautifulSoup\n",
    "import csv"
   ]
  },
  {
   "cell_type": "code",
   "execution_count": 29,
   "metadata": {},
   "outputs": [],
   "source": [
    "URL = 'https://english.onlinekhabar.com/category/political/page/'"
   ]
  },
  {
   "cell_type": "code",
   "execution_count": null,
   "metadata": {},
   "outputs": [],
   "source": [
    "last_page = 213\n",
    "\n",
    "for page in range(1,last_page+1):\n",
    "    r  = requests.get(URL +  str(page) + '/')\n",
    "    soup = BeautifulSoup(r.content,'html.parser')\n",
    "    main = soup.find_all('div', class_='ok-details-content-left')  \n",
    "    for div in main:\n",
    "        anchor_tags = div.find_all('a')\n",
    "        for tag in anchor_tags:\n",
    "            link = tag.get('href')\n",
    "            if link:\n",
    "                links.append(link)\n",
    "      \n"
   ]
  },
  {
   "cell_type": "code",
   "execution_count": 35,
   "metadata": {},
   "outputs": [
    {
     "data": {
      "text/plain": [
       "4469"
      ]
     },
     "execution_count": 35,
     "metadata": {},
     "output_type": "execute_result"
    }
   ],
   "source": [
    "unique_links = list(set(links))\n",
    "len(unique_links)"
   ]
  },
  {
   "cell_type": "code",
   "execution_count": 36,
   "metadata": {},
   "outputs": [],
   "source": [
    "with open('links.csv', 'w', newline='') as csvfile:\n",
    "    fieldnames = ['Links']\n",
    "    writer = csv.DictWriter(csvfile, fieldnames=fieldnames)\n",
    "\n",
    "    writer.writeheader()\n",
    "    for link in unique_links:\n",
    "        writer.writerow({'Links': link})\n"
   ]
  },
  {
   "cell_type": "code",
   "execution_count": null,
   "metadata": {},
   "outputs": [],
   "source": []
  }
 ],
 "metadata": {
  "kernelspec": {
   "display_name": ".venv",
   "language": "python",
   "name": "python3"
  },
  "language_info": {
   "codemirror_mode": {
    "name": "ipython",
    "version": 3
   },
   "file_extension": ".py",
   "mimetype": "text/x-python",
   "name": "python",
   "nbconvert_exporter": "python",
   "pygments_lexer": "ipython3",
   "version": "3.12.0"
  }
 },
 "nbformat": 4,
 "nbformat_minor": 2
}
